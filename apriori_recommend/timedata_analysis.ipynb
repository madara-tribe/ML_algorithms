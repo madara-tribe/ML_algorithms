{
 "cells": [
  {
   "cell_type": "code",
   "execution_count": 41,
   "metadata": {},
   "outputs": [],
   "source": [
    "from __future__ import absolute_import\n",
    "\n",
    "%matplotlib inline \n",
    "import numpy as np\n",
    "import pylab\n",
    "import os\n",
    "from keras.layers import Layer, InputSpec\n",
    "import matplotlib.pyplot as plt\n",
    "import sys\n",
    "import pandas as pd\n",
    "import collections \n",
    "import keras\n",
    "import seaborn as sns\n",
    "import keras.backend.tensorflow_backend as K\n",
    "from keras.layers import Input, LSTM, Dropout, Conv1D\n",
    "from keras.models import Model,Sequential\n",
    "from keras.layers.core import Dense, Lambda, Activation, Flatten\n",
    "from keras import objectives\n",
    "from sklearn.preprocessing import MinMaxScaler\n",
    "from keras.callbacks import History\n",
    "from keras.callbacks import Callback\n",
    "from keras.callbacks import ModelCheckpoint\n",
    "from keras.callbacks import EarlyStopping \n",
    "from sklearn.preprocessing import MinMaxScaler\n",
    "from google.cloud import bigquery   # pip install google-cloud-bigquery\n",
    "K.set_session\n",
    "plt.style.use('ggplot')\n",
    "os.environ[\"GOOGLE_APPLICATION_CREDENTIALS\"]='/Users/tatsuyahagiwara/d/BUYMA/bigquery.json'"
   ]
  },
  {
   "cell_type": "code",
   "execution_count": 42,
   "metadata": {},
   "outputs": [],
   "source": [
    "client = bigquery.Client(project='neon-opus-132123')\n",
    "job_config = bigquery.QueryJobConfig()\n",
    "job_config.use_legacy_sql = False"
   ]
  },
  {
   "cell_type": "code",
   "execution_count": 43,
   "metadata": {},
   "outputs": [],
   "source": [
    "query =  \"\"\"\n",
    "#standardSQL\n",
    "with category_tree as(\n",
    "SELECT\n",
    "c.cate_id\n",
    ",c.topcate_id\n",
    "FROM `info_db.m_category` c\n",
    ")\n",
    "select mk.kaiin_id,\n",
    "format_timestamp(\"%Y%m%d%H\", sa.time) AS hours, sa.gender, sa.device,\n",
    "category_tree.topcate_id label\n",
    "FROM `search_logs.search_log*` sa\n",
    "JOIN `info_db.d_torihiki` dt ON sa.kaiin_id=CAST(dt.konyu_id as string)\n",
    "JOIN `info_db.m_syohin` ms ON dt.syo_id = ms.syo_id\n",
    "JOIN `info_db.m_kaiin` mk on dt.konyu_id = mk.kaiin_id\n",
    "INNER JOIN category_tree on category_tree.cate_id=ms.cate_id\n",
    "where dt.insdate >= '2018-06-29' and dt.insdate < '2018-07-01'\n",
    "  \"\"\""
   ]
  },
  {
   "cell_type": "code",
   "execution_count": 44,
   "metadata": {},
   "outputs": [],
   "source": [
    "query_job = client.query(query, job_config=job_config)\n",
    "results = query_job.result()"
   ]
  },
  {
   "cell_type": "code",
   "execution_count": 45,
   "metadata": {},
   "outputs": [],
   "source": [
    "csv=[[i.kaiin_id, i.hours, i.device, i.label] for i in list(results)]"
   ]
  },
  {
   "cell_type": "code",
   "execution_count": null,
   "metadata": {},
   "outputs": [],
   "source": [
    "# mke Dataframe\n",
    "csv=pd.DataFrame(csv)\n",
    "listed=['kaiin_id', 'hours', 'device', 'label']\n",
    "csv.columns = listed\n",
    "csv=csv.drop('kaiin_id', axis=1)\n",
    "# csv.to_csv('time.csv')　  "
   ]
  },
  {
   "cell_type": "code",
   "execution_count": 70,
   "metadata": {},
   "outputs": [
    {
     "name": "stdout",
     "output_type": "stream",
     "text": [
      "[1004, 1001, 1005, 1002, 1003, 1006]\n"
     ]
    },
    {
     "data": {
      "text/html": [
       "<div>\n",
       "<style scoped>\n",
       "    .dataframe tbody tr th:only-of-type {\n",
       "        vertical-align: middle;\n",
       "    }\n",
       "\n",
       "    .dataframe tbody tr th {\n",
       "        vertical-align: top;\n",
       "    }\n",
       "\n",
       "    .dataframe thead th {\n",
       "        text-align: right;\n",
       "    }\n",
       "</style>\n",
       "<table border=\"1\" class=\"dataframe\">\n",
       "  <thead>\n",
       "    <tr style=\"text-align: right;\">\n",
       "      <th></th>\n",
       "      <th>hours</th>\n",
       "      <th>gender</th>\n",
       "      <th>device</th>\n",
       "      <th>label</th>\n",
       "    </tr>\n",
       "  </thead>\n",
       "  <tbody>\n",
       "    <tr>\n",
       "      <th>0</th>\n",
       "      <td>2018072102</td>\n",
       "      <td>Male</td>\n",
       "      <td>PC</td>\n",
       "      <td>1004</td>\n",
       "    </tr>\n",
       "    <tr>\n",
       "      <th>1</th>\n",
       "      <td>2018072102</td>\n",
       "      <td>Male</td>\n",
       "      <td>PC</td>\n",
       "      <td>1004</td>\n",
       "    </tr>\n",
       "    <tr>\n",
       "      <th>2</th>\n",
       "      <td>2018072102</td>\n",
       "      <td>Male</td>\n",
       "      <td>PC</td>\n",
       "      <td>1004</td>\n",
       "    </tr>\n",
       "    <tr>\n",
       "      <th>3</th>\n",
       "      <td>2018072102</td>\n",
       "      <td>Male</td>\n",
       "      <td>PC</td>\n",
       "      <td>1004</td>\n",
       "    </tr>\n",
       "    <tr>\n",
       "      <th>4</th>\n",
       "      <td>2018072102</td>\n",
       "      <td>Male</td>\n",
       "      <td>PC</td>\n",
       "      <td>1004</td>\n",
       "    </tr>\n",
       "  </tbody>\n",
       "</table>\n",
       "</div>"
      ],
      "text/plain": [
       "        hours gender device  label\n",
       "0  2018072102   Male     PC   1004\n",
       "1  2018072102   Male     PC   1004\n",
       "2  2018072102   Male     PC   1004\n",
       "3  2018072102   Male     PC   1004\n",
       "4  2018072102   Male     PC   1004"
      ]
     },
     "execution_count": 70,
     "metadata": {},
     "output_type": "execute_result"
    }
   ],
   "source": [
    "# label\n",
    "csv=pd.read_csv('time.csv')\n",
    "csv=csv.drop('Unnamed: 0', axis=1)\n",
    "print(list(collections.Counter(csv['label']).keys()))\n",
    "csv.head()"
   ]
  },
  {
   "cell_type": "code",
   "execution_count": 71,
   "metadata": {},
   "outputs": [
    {
     "name": "stdout",
     "output_type": "stream",
     "text": [
      "SmartPhone           4736090\n",
      "BUYMA-IPHONE-APP     2366924\n",
      "PC                   1822858\n",
      "Tablet                491248\n",
      "Buyma-Android-App     100108\n",
      "Name: device, dtype: int64\n",
      "\n",
      "Unique values of platform: ['PC' 'Tablet' 'SmartPhone' 'BUYMA-IPHONE-APP' 'Buyma-Android-App']\n"
     ]
    }
   ],
   "source": [
    "# number of platform\n",
    "plat = csv.device.value_counts()\n",
    "\n",
    "print(plat)\n",
    "print('\\nUnique values of platform:', csv.device.unique())"
   ]
  },
  {
   "cell_type": "code",
   "execution_count": 72,
   "metadata": {},
   "outputs": [
    {
     "data": {
      "text/plain": [
       "Text(0, 0.5, 'Occurence count')"
      ]
     },
     "execution_count": 72,
     "metadata": {},
     "output_type": "execute_result"
    },
    {
     "data": {
      "image/png": "[encoded data removed]",
      "text/plain": [
       "<Figure size 864x288 with 1 Axes>"
      ]
     },
     "metadata": {},
     "output_type": "display_data"
    }
   ],
   "source": [
    "# platform histgram\n",
    "csv.device = csv.device.astype(str)\n",
    "plat = csv.device.value_counts()\n",
    "\n",
    "plt.figure(figsize=(12,4))\n",
    "sns.barplot(plat.index, plat.values, alpha=0.8)\n",
    "plt.xlabel('Platform', fontsize=12)\n",
    "plt.ylabel('Occurence count', fontsize=12)"
   ]
  },
  {
   "cell_type": "code",
   "execution_count": 73,
   "metadata": {},
   "outputs": [],
   "source": [
    "hour=[str(i)[8:] for i in csv.hours]\n",
    "hour=[int(i) for i in hour]\n",
    "\n",
    "day=[str(i)[6:8] for i in csv.hours]\n",
    "day=[int(i) for i in day]"
   ]
  },
  {
   "cell_type": "code",
   "execution_count": 74,
   "metadata": {
    "scrolled": true
   },
   "outputs": [
    {
     "name": "stderr",
     "output_type": "stream",
     "text": [
      "/anaconda3/envs/django/lib/python3.6/site-packages/ipykernel_launcher.py:6: SettingWithCopyWarning: \n",
      "A value is trying to be set on a copy of a slice from a DataFrame.\n",
      "Try using .loc[row_indexer,col_indexer] = value instead\n",
      "\n",
      "See the caveats in the documentation: http://pandas.pydata.org/pandas-docs/stable/indexing.html#indexing-view-versus-copy\n",
      "  \n",
      "/anaconda3/envs/django/lib/python3.6/site-packages/ipykernel_launcher.py:7: SettingWithCopyWarning: \n",
      "A value is trying to be set on a copy of a slice from a DataFrame.\n",
      "Try using .loc[row_indexer,col_indexer] = value instead\n",
      "\n",
      "See the caveats in the documentation: http://pandas.pydata.org/pandas-docs/stable/indexing.html#indexing-view-versus-copy\n",
      "  import sys\n"
     ]
    }
   ],
   "source": [
    "# time\n",
    "data_size=100000\n",
    "hour=hour[:data_size]\n",
    "day=day[:data_size]\n",
    "df=csv[:data_size]\n",
    "df[\"hour\"] = [i for i in hour]\n",
    "df[\"day\"] =[i%24 for i in day]"
   ]
  },
  {
   "cell_type": "code",
   "execution_count": 75,
   "metadata": {},
   "outputs": [
    {
     "data": {
      "text/html": [
       "<div>\n",
       "<style scoped>\n",
       "    .dataframe tbody tr th:only-of-type {\n",
       "        vertical-align: middle;\n",
       "    }\n",
       "\n",
       "    .dataframe tbody tr th {\n",
       "        vertical-align: top;\n",
       "    }\n",
       "\n",
       "    .dataframe thead th {\n",
       "        text-align: right;\n",
       "    }\n",
       "</style>\n",
       "<table border=\"1\" class=\"dataframe\">\n",
       "  <thead>\n",
       "    <tr style=\"text-align: right;\">\n",
       "      <th></th>\n",
       "      <th>hours</th>\n",
       "      <th>gender</th>\n",
       "      <th>device</th>\n",
       "      <th>label</th>\n",
       "      <th>hour</th>\n",
       "      <th>day</th>\n",
       "    </tr>\n",
       "  </thead>\n",
       "  <tbody>\n",
       "    <tr>\n",
       "      <th>0</th>\n",
       "      <td>2018072102</td>\n",
       "      <td>Male</td>\n",
       "      <td>PC</td>\n",
       "      <td>1004</td>\n",
       "      <td>2</td>\n",
       "      <td>21</td>\n",
       "    </tr>\n",
       "    <tr>\n",
       "      <th>1</th>\n",
       "      <td>2018072102</td>\n",
       "      <td>Male</td>\n",
       "      <td>PC</td>\n",
       "      <td>1004</td>\n",
       "      <td>2</td>\n",
       "      <td>21</td>\n",
       "    </tr>\n",
       "    <tr>\n",
       "      <th>2</th>\n",
       "      <td>2018072102</td>\n",
       "      <td>Male</td>\n",
       "      <td>PC</td>\n",
       "      <td>1004</td>\n",
       "      <td>2</td>\n",
       "      <td>21</td>\n",
       "    </tr>\n",
       "    <tr>\n",
       "      <th>3</th>\n",
       "      <td>2018072102</td>\n",
       "      <td>Male</td>\n",
       "      <td>PC</td>\n",
       "      <td>1004</td>\n",
       "      <td>2</td>\n",
       "      <td>21</td>\n",
       "    </tr>\n",
       "    <tr>\n",
       "      <th>4</th>\n",
       "      <td>2018072102</td>\n",
       "      <td>Male</td>\n",
       "      <td>PC</td>\n",
       "      <td>1004</td>\n",
       "      <td>2</td>\n",
       "      <td>21</td>\n",
       "    </tr>\n",
       "  </tbody>\n",
       "</table>\n",
       "</div>"
      ],
      "text/plain": [
       "        hours gender device  label  hour  day\n",
       "0  2018072102   Male     PC   1004     2   21\n",
       "1  2018072102   Male     PC   1004     2   21\n",
       "2  2018072102   Male     PC   1004     2   21\n",
       "3  2018072102   Male     PC   1004     2   21\n",
       "4  2018072102   Male     PC   1004     2   21"
      ]
     },
     "execution_count": 75,
     "metadata": {},
     "output_type": "execute_result"
    }
   ],
   "source": [
    "df.head()"
   ]
  },
  {
   "cell_type": "code",
   "execution_count": 76,
   "metadata": {},
   "outputs": [
    {
     "data": {
      "text/plain": [
       "Text(0, 0.5, 'Fraction of Events')"
      ]
     },
     "execution_count": 76,
     "metadata": {},
     "output_type": "execute_result"
    },
    {
     "data": {
      "image/png": "[encoded data removed]",
      "text/plain": [
       "<Figure size 864x288 with 1 Axes>"
      ]
     },
     "metadata": {},
     "output_type": "display_data"
    }
   ],
   "source": [
    "# time histgram\n",
    "plt.figure(figsize=(12,4))\n",
    "df.hour.hist(bins=np.linspace(-0.5, 23.5, 25), label=\"train\", alpha=0.7, normed=True)\n",
    "plt.xlim(-0.5, 23.5)\n",
    "plt.legend(loc=\"best\")\n",
    "plt.xlabel(\"Hour of Day\")\n",
    "plt.ylabel(\"Fraction of Events\")"
   ]
  },
  {
   "cell_type": "code",
   "execution_count": 77,
   "metadata": {},
   "outputs": [
    {
     "data": {
      "text/plain": [
       "Text(0, 0.5, 'Days')"
      ]
     },
     "execution_count": 77,
     "metadata": {},
     "output_type": "execute_result"
    },
    {
     "data": {
      "image/png": "[encoded data removed]",
      "text/plain": [
       "<Figure size 864x432 with 1 Axes>"
      ]
     },
     "metadata": {},
     "output_type": "display_data"
    }
   ],
   "source": [
    "# heat map\n",
    "plt.figure(figsize=(12,6))\n",
    "hour_day_counts = df.groupby([\"hour\", \"day\"]).count().device.values.reshape(24,-1)\n",
    "# plot 2d hist in days and hours, with each day normalised to 1 \n",
    "plt.imshow((hour_day_counts / hour_day_counts.sum(axis=0)).T,\n",
    "           interpolation=\"none\", cmap=\"rainbow\")\n",
    "plt.xlabel(\"Hour of Day\")\n",
    "plt.ylabel(\"Days\")"
   ]
  }
 ],
 "metadata": {
  "kernelspec": {
   "display_name": "Python 3",
   "language": "python",
   "name": "python3"
  },
  "language_info": {
   "codemirror_mode": {
    "name": "ipython",
    "version": 3
   },
   "file_extension": ".py",
   "mimetype": "text/x-python",
   "name": "python",
   "nbconvert_exporter": "python",
   "pygments_lexer": "ipython3",
   "version": "3.6.6"
  }
 },
 "nbformat": 4,
 "nbformat_minor": 2
}
